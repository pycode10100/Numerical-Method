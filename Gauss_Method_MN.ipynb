{
 "cells": [
  {
   "cell_type": "code",
   "metadata": {
    "ExecuteTime": {
     "end_time": "2024-11-18T11:15:36.112954Z",
     "start_time": "2024-11-18T11:15:36.100120Z"
    }
   },
   "source": [
    "import numpy as np"
   ],
   "outputs": [],
   "execution_count": 27
  },
  {
   "cell_type": "code",
   "metadata": {
    "ExecuteTime": {
     "end_time": "2024-11-18T11:16:12.197753Z",
     "start_time": "2024-11-18T11:15:36.129957Z"
    }
   },
   "source": [
    "lenght = int(input(\"Enter the NxN Size  of the matrix: \"))\n",
    "matrix = np.zeros((lenght,lenght))\n",
    "\n",
    "for i in range(0,lenght):\n",
    "    for j in range(0,lenght):\n",
    "        matrix[i][j] = int(input(f\"Enter ({i},{j}) value :\"))\n",
    "\n",
    "value = np.zeros((lenght,1))\n",
    "for i in range(0,lenght):\n",
    "    value[i][0] = int(input(f\"Enter {i} Vecor'svalue :\"))"
   ],
   "outputs": [],
   "execution_count": 28
  },
  {
   "cell_type": "code",
   "metadata": {
    "ExecuteTime": {
     "end_time": "2024-11-18T11:17:06.975603Z",
     "start_time": "2024-11-18T11:17:06.966807Z"
    }
   },
   "source": [
    "print(matrix,\"\\n\\n\",value)\n",
    "b = np.array([[1],[2],[4]])"
   ],
   "outputs": [
    {
     "name": "stdout",
     "output_type": "stream",
     "text": [
      "[[1. 1. 2.]\n",
      " [1. 2. 1.]\n",
      " [1. 1. 2.]] \n",
      "\n",
      " [[1.]\n",
      " [2.]\n",
      " [3.]]\n"
     ]
    }
   ],
   "execution_count": 37
  },
  {
   "cell_type": "code",
   "metadata": {
    "ExecuteTime": {
     "end_time": "2024-11-18T11:16:12.333585Z",
     "start_time": "2024-11-18T11:16:12.318034Z"
    }
   },
   "source": [
    "def is_Squared(x:np.array) -> bool:\n",
    "    return np.shape(x) == (lenght,lenght)\n",
    "\n",
    "def is_Transpose(x:np.array) -> bool:\n",
    "    return x[0].shape == (1,)\n",
    "\n",
    "def Gauss_Calculation(x:np.array) -> np.array:\n",
    "    for i in range(0,lenght):\n",
    "        pivot = x[i][i]\n",
    "        for j in range(i+1,lenght):\n",
    "                x[j] = x[j] - ((x[j][i])/pivot) *x[i]\n",
    "        print(\"\\n-----------------\\n\",x,\"\\n-----------------\\n\")\n",
    "\n",
    "    return x\n",
    "            \n",
    "def Gauss_Eliminiration(x,y:np.array):\n",
    "    if  is_Squared(x):\n",
    "        if  is_Transpose(y):\n",
    "            x = np.append(x,y,axis=1)\n",
    "            print(\"Matrix is valid\\n\")\n",
    "            return Gauss_Calculation(x)\n",
    "            return x\n",
    "        else:\n",
    "            print(\"The Vector isn't Transposed\\n\")\n",
    "    else:\n",
    "        print(\"The Matrix isn't Squared\\n\")\n"
   ],
   "outputs": [],
   "execution_count": 30
  },
  {
   "cell_type": "code",
   "metadata": {
    "ExecuteTime": {
     "end_time": "2024-11-18T11:17:22.002254Z",
     "start_time": "2024-11-18T11:17:21.976840Z"
    }
   },
   "source": "print(Gauss_Eliminiration(matrix,value))",
   "outputs": [
    {
     "name": "stdout",
     "output_type": "stream",
     "text": [
      "Matrix is valid\n",
      "\n",
      "\n",
      "-----------------\n",
      " [[ 1.  1.  2.  1.]\n",
      " [ 0.  1. -1.  1.]\n",
      " [ 0.  0.  0.  3.]] \n",
      "-----------------\n",
      "\n",
      "\n",
      "-----------------\n",
      " [[ 1.  1.  2.  1.]\n",
      " [ 0.  1. -1.  1.]\n",
      " [ 0.  0.  0.  3.]] \n",
      "-----------------\n",
      "\n",
      "\n",
      "-----------------\n",
      " [[ 1.  1.  2.  1.]\n",
      " [ 0.  1. -1.  1.]\n",
      " [ 0.  0.  0.  3.]] \n",
      "-----------------\n",
      "\n",
      "[[ 1.  1.  2.  1.]\n",
      " [ 0.  1. -1.  1.]\n",
      " [ 0.  0.  0.  3.]]\n"
     ]
    }
   ],
   "execution_count": 43
  }
 ],
 "metadata": {
  "kernelspec": {
   "display_name": ".venv",
   "language": "python",
   "name": "python3"
  },
  "language_info": {
   "codemirror_mode": {
    "name": "ipython",
    "version": 3
   },
   "file_extension": ".py",
   "mimetype": "text/x-python",
   "name": "python",
   "nbconvert_exporter": "python",
   "pygments_lexer": "ipython3",
   "version": "3.12.7"
  }
 },
 "nbformat": 4,
 "nbformat_minor": 2
}
