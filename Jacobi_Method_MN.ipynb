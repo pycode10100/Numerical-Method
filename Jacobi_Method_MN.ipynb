{
 "cells": [
  {
   "cell_type": "code",
   "id": "initial_id",
   "metadata": {
    "collapsed": true,
    "ExecuteTime": {
     "end_time": "2024-12-09T11:16:25.016652Z",
     "start_time": "2024-12-09T11:16:24.999627Z"
    }
   },
   "source": [
    "import numpy as np\n",
    "import math as m"
   ],
   "outputs": [],
   "execution_count": 67
  },
  {
   "metadata": {
    "ExecuteTime": {
     "end_time": "2024-12-09T11:16:25.061903Z",
     "start_time": "2024-12-09T11:16:25.033995Z"
    }
   },
   "cell_type": "code",
   "source": [
    "def square(a,dim):\n",
    "    return np.shape(a) == (dim,dim)\n",
    "def transpose(b,dim):\n",
    "    return np.shape(b) == (dim,)"
   ],
   "id": "1db6bfcdc91570bd",
   "outputs": [],
   "execution_count": 68
  },
  {
   "metadata": {
    "ExecuteTime": {
     "end_time": "2024-12-09T11:16:25.100675Z",
     "start_time": "2024-12-09T11:16:25.089986Z"
    }
   },
   "cell_type": "code",
   "source": [
    "def jacobi(a, b, xo, epsilon, max_iter=100, iter_count=0) -> np.array:\n",
    "    if iter_count >= max_iter:\n",
    "        return xo\n",
    "\n",
    "    dim = len(b)\n",
    "    xr = np.zeros_like(xo)\n",
    "\n",
    "    for i in range(dim):\n",
    "        xr[i] = (b[i] - np.sum(a[i, :i] * xo[:i]) - np.sum(a[i, i+1:] * xo[i+1:]) ) / a[i, i]\n",
    "\n",
    "    if m.fabs(np.linalg.norm(xr - xo, ord=np.inf)) < epsilon:\n",
    "        return xr\n",
    "\n",
    "    return jacobi(a, b, xr, epsilon, max_iter, iter_count + 1)"
   ],
   "id": "d0d45bbf52f322b0",
   "outputs": [],
   "execution_count": 69
  },
  {
   "metadata": {
    "ExecuteTime": {
     "end_time": "2024-12-09T11:16:25.152728Z",
     "start_time": "2024-12-09T11:16:25.131299Z"
    }
   },
   "cell_type": "code",
   "source": [
    "A = np.array([[99, -1, 0, 0],\n",
    "              [-1, 4, -1, 0],\n",
    "              [0, -1, 4, -1],\n",
    "              [0, 0, -1, 3]], dtype=float)\n",
    "b = np.array([15, 10, 10, 10], dtype=float)\n",
    "xo = np.zeros_like(b)\n",
    "epsilon = 1e-10\n",
    "dim = len(b)\n",
    "if square(A,dim):\n",
    "    if transpose(b,dim):\n",
    "        solution = jacobi(A, b, xo, epsilon)\n",
    "        print(\"Solution : \", solution)\n",
    "    else:\n",
    "        print(\"B Isn't transposant\")\n",
    "else:\n",
    "    print(\"A Isn't Square\")"
   ],
   "id": "c2b8f8f7c0a9477f",
   "outputs": [
    {
     "name": "stdout",
     "output_type": "stream",
     "text": [
      "Solution :  [0.18898221 3.70923913 4.64797431 4.8826581 ]\n"
     ]
    }
   ],
   "execution_count": 70
  }
 ],
 "metadata": {
  "kernelspec": {
   "display_name": "Python 3",
   "language": "python",
   "name": "python3"
  },
  "language_info": {
   "codemirror_mode": {
    "name": "ipython",
    "version": 2
   },
   "file_extension": ".py",
   "mimetype": "text/x-python",
   "name": "python",
   "nbconvert_exporter": "python",
   "pygments_lexer": "ipython2",
   "version": "2.7.6"
  }
 },
 "nbformat": 4,
 "nbformat_minor": 5
}
