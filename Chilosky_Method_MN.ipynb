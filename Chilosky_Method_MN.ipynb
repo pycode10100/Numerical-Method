{
 "cells": [
  {
   "cell_type": "code",
   "id": "initial_id",
   "metadata": {
    "collapsed": true,
    "ExecuteTime": {
     "end_time": "2024-11-25T11:38:17.306956Z",
     "start_time": "2024-11-25T11:38:17.300582Z"
    }
   },
   "source": [
    "import numpy as np\n",
    "import math"
   ],
   "outputs": [],
   "execution_count": 55
  },
  {
   "metadata": {
    "ExecuteTime": {
     "end_time": "2024-11-25T11:38:27.314087Z",
     "start_time": "2024-11-25T11:38:19.493980Z"
    }
   },
   "cell_type": "code",
   "source": "dim = int(input(\"Enter the dimension of your Matrix: \"))",
   "id": "21a6fcc30bfb191c",
   "outputs": [],
   "execution_count": 56
  },
  {
   "metadata": {
    "ExecuteTime": {
     "end_time": "2024-11-25T11:38:56.645430Z",
     "start_time": "2024-11-25T11:38:38.165568Z"
    }
   },
   "cell_type": "code",
   "source": [
    "Mtrix = []\n",
    "for i in range(dim):\n",
    "    row = []\n",
    "    for j in range(dim):\n",
    "        row.append(float(input(f\"Enter the value of row ({i},{j})) : \")))\n",
    "    Mtrix.append(row)"
   ],
   "id": "40cb75b4d639a466",
   "outputs": [],
   "execution_count": 58
  },
  {
   "metadata": {
    "ExecuteTime": {
     "end_time": "2024-11-25T11:43:54.886820Z",
     "start_time": "2024-11-25T11:43:54.871176Z"
    }
   },
   "cell_type": "code",
   "source": [
    "def is_Symmetric(M:list)->bool:\n",
    "    for i in range(dim):\n",
    "        for j in range(dim):\n",
    "            if i != j:\n",
    "                return Mtrix_T[i][j] != Mtrix[j][i]\n",
    "    return True"
   ],
   "id": "185e09c0fcf9faa8",
   "outputs": [],
   "execution_count": 70
  },
  {
   "metadata": {
    "ExecuteTime": {
     "end_time": "2024-11-25T11:39:10.555306Z",
     "start_time": "2024-11-25T11:39:10.546440Z"
    }
   },
   "cell_type": "code",
   "source": [
    "def Gauss_Calculation(x:list) -> list:\n",
    "    for i in range(0,lenght):\n",
    "        pivot = x[i][i]\n",
    "        for j in range(i+1,lenght):\n",
    "                x[j] = x[j] - ((x[j][i])/pivot) *x[i]\n",
    "    return x"
   ],
   "id": "fa9390b89bcab4b4",
   "outputs": [],
   "execution_count": 61
  },
  {
   "metadata": {
    "ExecuteTime": {
     "end_time": "2024-11-25T11:39:14.644695Z",
     "start_time": "2024-11-25T11:39:14.634142Z"
    }
   },
   "cell_type": "code",
   "source": [
    "def det_dia(x:list) -> float:\n",
    "    M = 1\n",
    "    for i in range(0,dim):\n",
    "        M *= x[i][i]\n",
    "    return M"
   ],
   "id": "a7650fcdbb4ed3f4",
   "outputs": [],
   "execution_count": 62
  },
  {
   "metadata": {
    "ExecuteTime": {
     "end_time": "2024-11-25T11:39:19.382015Z",
     "start_time": "2024-11-25T11:39:19.373039Z"
    }
   },
   "cell_type": "code",
   "source": [
    "def positif(x:list)->bool:\n",
    "    G = True\n",
    "    for i in range(0,dim):\n",
    "        if dim==1:\n",
    "            G = x[0][0] > 0\n",
    "        elif dim==2:\n",
    "            G = G and x[1][1]*x[2][2] - x[2][1]*x[1][2] > 0\n",
    "        else:\n",
    "            M = Gauss_Calculation(x)\n",
    "            T = det_dia(M)\n",
    "            G = G and T>0\n",
    "    return G"
   ],
   "id": "2823b8f65b000fe9",
   "outputs": [],
   "execution_count": 63
  },
  {
   "metadata": {
    "ExecuteTime": {
     "end_time": "2024-11-25T11:39:24.200890Z",
     "start_time": "2024-11-25T11:39:24.192551Z"
    }
   },
   "cell_type": "code",
   "source": [
    "def Pow2SumEq(x:list,n:int)->list:\n",
    "    M = 0\n",
    "    for i in range(0,n-1):\n",
    "        M = M + math.pow(x[n][i],2)\n",
    "    return M"
   ],
   "id": "8d5719dffe10ec79",
   "outputs": [],
   "execution_count": 64
  },
  {
   "metadata": {
    "ExecuteTime": {
     "end_time": "2024-11-25T11:39:32.123032Z",
     "start_time": "2024-11-25T11:39:32.115028Z"
    }
   },
   "cell_type": "code",
   "source": [
    "def Sum2Eq(x:list,i,j:int)->list:\n",
    "    M = 0\n",
    "    for k in range(0,j-1):\n",
    "        M = M + x[i][k]*x[j][k]"
   ],
   "id": "c64c3bd616e0b7b2",
   "outputs": [],
   "execution_count": 66
  },
  {
   "metadata": {
    "ExecuteTime": {
     "end_time": "2024-11-25T11:39:33.191727Z",
     "start_time": "2024-11-25T11:39:33.184265Z"
    }
   },
   "cell_type": "code",
   "source": [
    "def Call_Cholesky(x:list) -> list:\n",
    "    for i in range(0,dim):\n",
    "        for i in range(0,dim):\n",
    "            if i == j == 0:\n",
    "                x[0][0] = math.sqrt(x[0][0])\n",
    "            elif j == i:\n",
    "                x[i][j] = math.sqrt(x[i][j] - Pow2SumEq(x,i))\n",
    "            elif i > j:\n",
    "                x[i][j] = (1/x[j][j])*(x[i][j] - Sum2Eq(x,i,j))\n",
    "            else:\n",
    "                x[i][j] = 0\n",
    "    return x"
   ],
   "id": "b4e204a460c20bea",
   "outputs": [],
   "execution_count": 67
  },
  {
   "metadata": {
    "ExecuteTime": {
     "end_time": "2024-11-25T11:44:01.831753Z",
     "start_time": "2024-11-25T11:44:01.811805Z"
    }
   },
   "cell_type": "code",
   "source": [
    "def Cholesky(x:list) -> list:\n",
    "    if is_Symmetric(Mtrix):\n",
    "        if positif(Mtrix):\n",
    "            print(\"Can use Cholesky method\")\n",
    "            print(Call_Cholesky(Mtrix))\n",
    "        else:\n",
    "            print(\"Can't use Cholesky method\")\n",
    "    else:\n",
    "        print(\"Can't use Cholesky method\")"
   ],
   "id": "7077a9b2e20ff16a",
   "outputs": [],
   "execution_count": 80
  }
 ],
 "metadata": {
  "kernelspec": {
   "display_name": "Python 3",
   "language": "python",
   "name": "python3"
  },
  "language_info": {
   "codemirror_mode": {
    "name": "ipython",
    "version": 2
   },
   "file_extension": ".py",
   "mimetype": "text/x-python",
   "name": "python",
   "nbconvert_exporter": "python",
   "pygments_lexer": "ipython2",
   "version": "2.7.6"
  }
 },
 "nbformat": 4,
 "nbformat_minor": 5
}
