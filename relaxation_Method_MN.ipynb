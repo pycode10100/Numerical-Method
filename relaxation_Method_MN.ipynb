{
 "cells": [
  {
   "cell_type": "code",
   "id": "initial_id",
   "metadata": {
    "collapsed": true,
    "ExecuteTime": {
     "end_time": "2024-12-09T11:28:39.458700Z",
     "start_time": "2024-12-09T11:28:39.416921Z"
    }
   },
   "source": [
    "import numpy as np\n",
    "import math as m"
   ],
   "outputs": [],
   "execution_count": 113
  },
  {
   "metadata": {
    "ExecuteTime": {
     "end_time": "2024-12-09T11:28:40.916320Z",
     "start_time": "2024-12-09T11:28:40.902463Z"
    }
   },
   "cell_type": "code",
   "source": [
    "def square(a,dim):\n",
    "    return np.shape(a) == (dim,dim)\n",
    "def transpose(b,dim):\n",
    "    return np.shape(b) == (dim,)"
   ],
   "id": "1db6bfcdc91570bd",
   "outputs": [],
   "execution_count": 114
  },
  {
   "metadata": {
    "ExecuteTime": {
     "end_time": "2024-12-09T11:28:42.136720Z",
     "start_time": "2024-12-09T11:28:42.088987Z"
    }
   },
   "cell_type": "code",
   "source": [
    "def relaxation(a, b, xo, epsilon,w, max_iter=200, iter_count=0) -> np.array:\n",
    "    dim = len(b)\n",
    "    xr = np.zeros_like(xo)\n",
    "\n",
    "    for i in range(dim):\n",
    "        xr[i] = (1-w)*xo[i] + w*(b[i] - np.sum(a[i, :i] * xr[:i]) - np.sum(a[i, i+1:] * xo[i+1:]) ) / a[i, i]\n",
    "\n",
    "    if m.fabs(np.linalg.norm(xr - xo, ord=np.inf)) < epsilon:\n",
    "        return xr\n",
    "    return relaxation(a, b, xr, epsilon,w, max_iter, iter_count + 1)"
   ],
   "id": "d0d45bbf52f322b0",
   "outputs": [],
   "execution_count": 115
  },
  {
   "metadata": {
    "ExecuteTime": {
     "end_time": "2024-12-09T11:31:39.903372Z",
     "start_time": "2024-12-09T11:31:39.705105Z"
    }
   },
   "cell_type": "code",
   "source": [
    "A = np.array([[9, -1, 0, 0],\n",
    "              [-1, 4, -1, 0],\n",
    "              [0, -1, 4, -1],\n",
    "              [0, 0, -1, 3]], dtype=float)\n",
    "b = np.array([15, 10, 10, 10], dtype=float)\n",
    "\n",
    "xo = np.zeros_like(b)\n",
    "epsilon = 1e-10\n",
    "dim = len(b)\n",
    "w = 0.1\n",
    "if square(A,dim):\n",
    "    if transpose(b,dim):\n",
    "        solution1 = relaxation(A, b, xo, epsilon,w)\n",
    "        print(\"Solution : \", solution1)\n",
    "    else:\n",
    "        print(\"B Isn't transposant\")\n",
    "else:\n",
    "    print(\"A Isn't Square\")\n"
   ],
   "id": "c2b8f8f7c0a9477f",
   "outputs": [
    {
     "name": "stdout",
     "output_type": "stream",
     "text": [
      "Solution :  [2.13687151 4.23184357 4.79050279 4.9301676 ]\n"
     ]
    }
   ],
   "execution_count": 120
  }
 ],
 "metadata": {
  "kernelspec": {
   "display_name": "Python 3",
   "language": "python",
   "name": "python3"
  },
  "language_info": {
   "codemirror_mode": {
    "name": "ipython",
    "version": 2
   },
   "file_extension": ".py",
   "mimetype": "text/x-python",
   "name": "python",
   "nbconvert_exporter": "python",
   "pygments_lexer": "ipython2",
   "version": "2.7.6"
  }
 },
 "nbformat": 4,
 "nbformat_minor": 5
}
