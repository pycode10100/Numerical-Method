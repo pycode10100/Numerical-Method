{
 "cells": [
  {
   "cell_type": "code",
   "execution_count": 7,
   "metadata": {},
   "outputs": [],
   "source": [
    "import numpy as np"
   ]
  },
  {
   "cell_type": "code",
   "execution_count": 8,
   "metadata": {},
   "outputs": [],
   "source": [
    "lenght = int(input(\"Enter the NxN Size  of the matrix: \"))\n",
    "matrix = np.zeros((lenght,lenght))\n",
    "\n",
    "for i in range(0,lenght):\n",
    "    for j in range(0,lenght):\n",
    "        matrix[i][j] = int(input(f\"Enter ({i},{j}) value :\"))\n",
    "\n",
    "value = np.zeros((lenght,1))\n",
    "for i in range(0,lenght):\n",
    "    value[i][0] = int(input(f\"Enter {i} Vecor'svalue :\"))"
   ]
  },
  {
   "cell_type": "code",
   "execution_count": 9,
   "metadata": {},
   "outputs": [
    {
     "name": "stdout",
     "output_type": "stream",
     "text": [
      "[[ 3.  2.  1.]\n",
      " [ 2. -1.  3.]\n",
      " [-1.  3.  2.]] \n",
      "\n",
      " [[1.]\n",
      " [9.]\n",
      " [8.]]\n"
     ]
    }
   ],
   "source": [
    "print(matrix,\"\\n\\n\",value)\n",
    "b = np.array([[1],[2],[3]])"
   ]
  },
  {
   "cell_type": "code",
   "execution_count": null,
   "metadata": {},
   "outputs": [],
   "source": [
    "def is_Squared(x:np.array) -> bool:\n",
    "    return np.shape(x) == (lenght,lenght)\n",
    "\n",
    "def is_Transpose(x:np.array) -> bool:\n",
    "    return x[0].shape == (1,)\n",
    "\n",
    "def Gauss_Calculation(x:np.array) -> np.array:\n",
    "    for i in range(0,lenght):\n",
    "        pivot = x[i][i]\n",
    "        x[i] *= 1/pivot\n",
    "        for j in range(0,lenght):\n",
    "            if j != i:\n",
    "                x[j] = x[j] - ((x[j][i])) *x[i]\n",
    "        print(\"\\n-----------------\\n\",x,\"\\n-----------------\\n\")\n",
    "\n",
    "    return x\n",
    "            \n",
    "def Gauss_Eliminiration(x,y:np.array):\n",
    "    if  is_Squared(x):\n",
    "        if  is_Transpose(y):\n",
    "            x = np.append(x,y,axis=1)\n",
    "            print(\"Matrix is valid\\n\")\n",
    "            return Gauss_Calculation(x)\n",
    "            return x\n",
    "        else:\n",
    "            print(\"The Vector isn't Transposed\\n\")\n",
    "    else:\n",
    "        print(\"The Matrix isn't Squared\\n\")\n",
    "            "
   ]
  },
  {
   "cell_type": "code",
   "execution_count": 40,
   "metadata": {},
   "outputs": [],
   "source": [
    "A = np.array([\n",
    "    [3, 2, -1],\n",
    "    [2, -1, 3],\n",
    "    [-1, 3, 2]\n",
    "], dtype=float)\n",
    "B = np.array([\n",
    "    [1],\n",
    "    [9],\n",
    "    [8]\n",
    "], dtype=float)"
   ]
  },
  {
   "cell_type": "code",
   "execution_count": null,
   "metadata": {},
   "outputs": [
    {
     "name": "stdout",
     "output_type": "stream",
     "text": [
      "Matrix is valid\n",
      "\n",
      "\n",
      "-----------------\n",
      " [[ 1.          0.66666667 -0.33333333  0.33333333]\n",
      " [ 0.         -2.33333333  3.66666667  8.33333333]\n",
      " [ 0.          3.66666667  1.66666667  8.33333333]] \n",
      "-----------------\n",
      "\n",
      "\n",
      "-----------------\n",
      " [[ 1.          0.          0.71428571  2.71428571]\n",
      " [-0.          1.         -1.57142857 -3.57142857]\n",
      " [ 0.          0.          7.42857143 21.42857143]] \n",
      "-----------------\n",
      "\n",
      "\n",
      "-----------------\n",
      " [[1.         0.         0.         0.65384615]\n",
      " [0.         1.         0.         0.96153846]\n",
      " [0.         0.         1.         2.88461538]] \n",
      "-----------------\n",
      "\n",
      "[[1.         0.         0.         0.65384615]\n",
      " [0.         1.         0.         0.96153846]\n",
      " [0.         0.         1.         2.88461538]]\n"
     ]
    }
   ],
   "source": [
    "print(Gauss_Eliminiration(A,B))\n"
   ]
  }
 ],
 "metadata": {
  "kernelspec": {
   "display_name": ".venv",
   "language": "python",
   "name": "python3"
  },
  "language_info": {
   "codemirror_mode": {
    "name": "ipython",
    "version": 3
   },
   "file_extension": ".py",
   "mimetype": "text/x-python",
   "name": "python",
   "nbconvert_exporter": "python",
   "pygments_lexer": "ipython3",
   "version": "3.12.7"
  }
 },
 "nbformat": 4,
 "nbformat_minor": 2
}
